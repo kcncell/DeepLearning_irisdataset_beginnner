{
 "cells": [
  {
   "cell_type": "code",
   "execution_count": null,
   "id": "1ced5dc7",
   "metadata": {},
   "outputs": [],
   "source": [
    "#We will the Sequential model from keras to train a neural network to predict species name from sepal/petal width and length.\n",
    "#the data can be found at the UCI Machine Learning Repository: https://archive.ics.uci.edu/ml/index.php\n",
    "#This is a small scale data and should be used as introductory practice session.\n",
    "#This dataset would give us a very high accuracy score from out of the box.\n",
    "#Hence, we won't be tinkering any hyperparameters for this model.\n",
    "#This classificatin problem can be solved using any standard classifcation algorithms. But the goal here is to solve using Deeplearning methods.\n"
   ]
  },
  {
   "cell_type": "markdown",
   "id": "ba8565ad",
   "metadata": {},
   "source": [
    "# Data upload, Inspection, and Preprocessing"
   ]
  },
  {
   "cell_type": "code",
   "execution_count": 1,
   "id": "18a796e9",
   "metadata": {},
   "outputs": [],
   "source": [
    "#we will upload the module as we go along, better for a tutorial and guide book.\n",
    "import pandas as pd\n",
    "import numpy as np"
   ]
  },
  {
   "cell_type": "code",
   "execution_count": 2,
   "id": "19dd4e20",
   "metadata": {},
   "outputs": [
    {
     "data": {
      "text/html": [
       "<div>\n",
       "<style scoped>\n",
       "    .dataframe tbody tr th:only-of-type {\n",
       "        vertical-align: middle;\n",
       "    }\n",
       "\n",
       "    .dataframe tbody tr th {\n",
       "        vertical-align: top;\n",
       "    }\n",
       "\n",
       "    .dataframe thead th {\n",
       "        text-align: right;\n",
       "    }\n",
       "</style>\n",
       "<table border=\"1\" class=\"dataframe\">\n",
       "  <thead>\n",
       "    <tr style=\"text-align: right;\">\n",
       "      <th></th>\n",
       "      <th>Id</th>\n",
       "      <th>SepalLengthCm</th>\n",
       "      <th>SepalWidthCm</th>\n",
       "      <th>PetalLengthCm</th>\n",
       "      <th>PetalWidthCm</th>\n",
       "      <th>Species</th>\n",
       "    </tr>\n",
       "  </thead>\n",
       "  <tbody>\n",
       "    <tr>\n",
       "      <th>0</th>\n",
       "      <td>1</td>\n",
       "      <td>5.1</td>\n",
       "      <td>3.5</td>\n",
       "      <td>1.4</td>\n",
       "      <td>0.2</td>\n",
       "      <td>Iris-setosa</td>\n",
       "    </tr>\n",
       "    <tr>\n",
       "      <th>1</th>\n",
       "      <td>2</td>\n",
       "      <td>4.9</td>\n",
       "      <td>3.0</td>\n",
       "      <td>1.4</td>\n",
       "      <td>0.2</td>\n",
       "      <td>Iris-setosa</td>\n",
       "    </tr>\n",
       "    <tr>\n",
       "      <th>2</th>\n",
       "      <td>3</td>\n",
       "      <td>4.7</td>\n",
       "      <td>3.2</td>\n",
       "      <td>1.3</td>\n",
       "      <td>0.2</td>\n",
       "      <td>Iris-setosa</td>\n",
       "    </tr>\n",
       "  </tbody>\n",
       "</table>\n",
       "</div>"
      ],
      "text/plain": [
       "   Id  SepalLengthCm  SepalWidthCm  PetalLengthCm  PetalWidthCm      Species\n",
       "0   1            5.1           3.5            1.4           0.2  Iris-setosa\n",
       "1   2            4.9           3.0            1.4           0.2  Iris-setosa\n",
       "2   3            4.7           3.2            1.3           0.2  Iris-setosa"
      ]
     },
     "execution_count": 2,
     "metadata": {},
     "output_type": "execute_result"
    }
   ],
   "source": [
    "df = pd.read_csv('Irisdataset.csv')\n",
    "df.head(3)"
   ]
  },
  {
   "cell_type": "code",
   "execution_count": 3,
   "id": "cdfc1330",
   "metadata": {},
   "outputs": [
    {
     "name": "stdout",
     "output_type": "stream",
     "text": [
      "<class 'pandas.core.frame.DataFrame'>\n",
      "RangeIndex: 150 entries, 0 to 149\n",
      "Data columns (total 6 columns):\n",
      " #   Column         Non-Null Count  Dtype  \n",
      "---  ------         --------------  -----  \n",
      " 0   Id             150 non-null    int64  \n",
      " 1   SepalLengthCm  150 non-null    float64\n",
      " 2   SepalWidthCm   150 non-null    float64\n",
      " 3   PetalLengthCm  150 non-null    float64\n",
      " 4   PetalWidthCm   150 non-null    float64\n",
      " 5   Species        150 non-null    object \n",
      "dtypes: float64(4), int64(1), object(1)\n",
      "memory usage: 7.2+ KB\n",
      "None\n"
     ]
    },
    {
     "data": {
      "text/plain": [
       "Id               0\n",
       "SepalLengthCm    0\n",
       "SepalWidthCm     0\n",
       "PetalLengthCm    0\n",
       "PetalWidthCm     0\n",
       "Species          0\n",
       "dtype: int64"
      ]
     },
     "execution_count": 3,
     "metadata": {},
     "output_type": "execute_result"
    }
   ],
   "source": [
    "#Let's check if we have any nun values in our data, two ways to check\n",
    "print(df.info())\n",
    "df.isnull().sum()   #isnull function will provide a boolean, false=0, if the sum is zero, that means we don't have any null values."
   ]
  },
  {
   "cell_type": "code",
   "execution_count": 4,
   "id": "7a11f82f",
   "metadata": {},
   "outputs": [
    {
     "name": "stdout",
     "output_type": "stream",
     "text": [
      "Iris-setosa        50\n",
      "Iris-versicolor    50\n",
      "Iris-virginica     50\n",
      "Name: Species, dtype: int64\n"
     ]
    }
   ],
   "source": [
    "df['Species'].unique()  \n",
    "print(df['Species'].value_counts())"
   ]
  },
  {
   "cell_type": "code",
   "execution_count": null,
   "id": "cc36857a",
   "metadata": {},
   "outputs": [],
   "source": [
    "#we have three different type of species, lets label them using the Labelencoder from sklearn"
   ]
  },
  {
   "cell_type": "code",
   "execution_count": 5,
   "id": "4fd729c7",
   "metadata": {},
   "outputs": [
    {
     "data": {
      "text/html": [
       "<div>\n",
       "<style scoped>\n",
       "    .dataframe tbody tr th:only-of-type {\n",
       "        vertical-align: middle;\n",
       "    }\n",
       "\n",
       "    .dataframe tbody tr th {\n",
       "        vertical-align: top;\n",
       "    }\n",
       "\n",
       "    .dataframe thead th {\n",
       "        text-align: right;\n",
       "    }\n",
       "</style>\n",
       "<table border=\"1\" class=\"dataframe\">\n",
       "  <thead>\n",
       "    <tr style=\"text-align: right;\">\n",
       "      <th></th>\n",
       "      <th>Id</th>\n",
       "      <th>SepalLengthCm</th>\n",
       "      <th>SepalWidthCm</th>\n",
       "      <th>PetalLengthCm</th>\n",
       "      <th>PetalWidthCm</th>\n",
       "      <th>Species</th>\n",
       "    </tr>\n",
       "  </thead>\n",
       "  <tbody>\n",
       "    <tr>\n",
       "      <th>0</th>\n",
       "      <td>1</td>\n",
       "      <td>5.1</td>\n",
       "      <td>3.5</td>\n",
       "      <td>1.4</td>\n",
       "      <td>0.2</td>\n",
       "      <td>0</td>\n",
       "    </tr>\n",
       "    <tr>\n",
       "      <th>1</th>\n",
       "      <td>2</td>\n",
       "      <td>4.9</td>\n",
       "      <td>3.0</td>\n",
       "      <td>1.4</td>\n",
       "      <td>0.2</td>\n",
       "      <td>0</td>\n",
       "    </tr>\n",
       "    <tr>\n",
       "      <th>2</th>\n",
       "      <td>3</td>\n",
       "      <td>4.7</td>\n",
       "      <td>3.2</td>\n",
       "      <td>1.3</td>\n",
       "      <td>0.2</td>\n",
       "      <td>0</td>\n",
       "    </tr>\n",
       "  </tbody>\n",
       "</table>\n",
       "</div>"
      ],
      "text/plain": [
       "   Id  SepalLengthCm  SepalWidthCm  PetalLengthCm  PetalWidthCm  Species\n",
       "0   1            5.1           3.5            1.4           0.2        0\n",
       "1   2            4.9           3.0            1.4           0.2        0\n",
       "2   3            4.7           3.2            1.3           0.2        0"
      ]
     },
     "execution_count": 5,
     "metadata": {},
     "output_type": "execute_result"
    }
   ],
   "source": [
    "from sklearn.preprocessing import LabelEncoder\n",
    "le = LabelEncoder()\n",
    "df['Species'] = le.fit_transform(df['Species'])\n",
    "df.head(3)"
   ]
  },
  {
   "cell_type": "code",
   "execution_count": 6,
   "id": "84673370",
   "metadata": {
    "scrolled": true
   },
   "outputs": [
    {
     "name": "stdout",
     "output_type": "stream",
     "text": [
      "0    0\n",
      "1    0\n",
      "2    0\n",
      "Name: Species, dtype: int64\n",
      "   SepalLengthCm  SepalWidthCm  PetalLengthCm  PetalWidthCm\n",
      "0            5.1           3.5            1.4           0.2\n",
      "1            4.9           3.0            1.4           0.2\n",
      "2            4.7           3.2            1.3           0.2\n"
     ]
    }
   ],
   "source": [
    "#After the inspection of the data, we can delete the Id column, create and X and y variables for our sets\n",
    "#y variables('Species' column) is an object data-type, we need to change to numeric so that our model can read it.\n",
    "\n",
    "df = df.drop(columns='Id')\n",
    "X = df.drop(columns='Species')\n",
    "y = df['Species']\n",
    "print(y.head(3))\n",
    "print(X.head(3))\n",
    "      "
   ]
  },
  {
   "cell_type": "code",
   "execution_count": 7,
   "id": "f7b6f5fa",
   "metadata": {},
   "outputs": [],
   "source": [
    "#let's split our data into training and testing sets using sklearn\n",
    "from sklearn.model_selection import train_test_split\n",
    "x_train, x_test, y_train, y_test = train_test_split(X, y, random_state=69, shuffle=True, test_size=0.3)"
   ]
  },
  {
   "cell_type": "code",
   "execution_count": 8,
   "id": "087ef402",
   "metadata": {},
   "outputs": [
    {
     "name": "stdout",
     "output_type": "stream",
     "text": [
      "     SepalLengthCm  SepalWidthCm  PetalLengthCm  PetalWidthCm\n",
      "57             4.9           2.4            3.3           1.0\n",
      "142            5.8           2.7            5.1           1.9\n"
     ]
    }
   ],
   "source": [
    "print(x_train[:2]) #let's see our first two rows"
   ]
  },
  {
   "cell_type": "code",
   "execution_count": 9,
   "id": "1237b2b6",
   "metadata": {},
   "outputs": [
    {
     "data": {
      "text/plain": [
       "array([[0.14285714, 0.2       , 0.40350877, 0.375     ],\n",
       "       [0.4       , 0.35      , 0.71929825, 0.75      ]])"
      ]
     },
     "execution_count": 9,
     "metadata": {},
     "output_type": "execute_result"
    }
   ],
   "source": [
    "#now we will scale our X by using MinMaxScaler from sklearn, so that alogorithm won't be biased towards any big number\n",
    "from sklearn.preprocessing import MinMaxScaler\n",
    "sc = MinMaxScaler()\n",
    "x_train = sc.fit_transform(x_train)\n",
    "x_test = sc.transform(x_test)\n",
    "\n",
    "x_train[:2] #let's see our first two rows of data again"
   ]
  },
  {
   "cell_type": "markdown",
   "id": "fdc12341",
   "metadata": {},
   "source": [
    "# Building and training the model"
   ]
  },
  {
   "cell_type": "code",
   "execution_count": 10,
   "id": "011bcd17",
   "metadata": {},
   "outputs": [],
   "source": [
    "# we are ready to build our model, let's import all the required keras packages\n",
    "import tensorflow as tf\n",
    "from tensorflow import keras\n",
    "from keras.models import Sequential\n",
    "from keras.layers import Dense,Dropout"
   ]
  },
  {
   "cell_type": "code",
   "execution_count": 11,
   "id": "1f5d4e10",
   "metadata": {},
   "outputs": [
    {
     "name": "stdout",
     "output_type": "stream",
     "text": [
      "before conversion\n",
      "57     1\n",
      "142    2\n",
      "72     1\n",
      "Name: Species, dtype: int64\n",
      "after conversion\n",
      "[[0. 1. 0.]\n",
      " [0. 0. 1.]\n",
      " [0. 1. 0.]]\n"
     ]
    }
   ],
   "source": [
    "#one last thing: we have to convert our y-data into a matrix.\n",
    "print('before conversion')\n",
    "print(y_train[:3])\n",
    "\n",
    "y_train = keras.utils.to_categorical(y_train, num_classes=3)\n",
    "print('after conversion')\n",
    "print(y_train[:3])\n"
   ]
  },
  {
   "cell_type": "code",
   "execution_count": 12,
   "id": "97b2f42d",
   "metadata": {},
   "outputs": [
    {
     "name": "stdout",
     "output_type": "stream",
     "text": [
      "Metal device set to: Apple M1\n"
     ]
    },
    {
     "name": "stderr",
     "output_type": "stream",
     "text": [
      "2022-01-09 05:01:49.252790: I tensorflow/core/common_runtime/pluggable_device/pluggable_device_factory.cc:305] Could not identify NUMA node of platform GPU ID 0, defaulting to 0. Your kernel may not have been built with NUMA support.\n",
      "2022-01-09 05:01:49.253002: I tensorflow/core/common_runtime/pluggable_device/pluggable_device_factory.cc:271] Created TensorFlow device (/job:localhost/replica:0/task:0/device:GPU:0 with 0 MB memory) -> physical PluggableDevice (device: 0, name: METAL, pci bus id: <undefined>)\n"
     ]
    }
   ],
   "source": [
    "# now we are ready to build our model\n",
    "model = Sequential()\n",
    "model.add(Dense(units=50, activation='relu', input_shape=(x_train.shape[1],)))\n",
    "#that was our first hidden layer with 50 neurons. Actually the 2nd layer after the input layer. \n",
    "#We had to provide an input shape =(4,) because of the 4 variables of our dataset.\n",
    "\n",
    "model.add(Dense(units=100, activation='relu')) #our second hidden layer, input shape will be determined automatically\n",
    "model.add(Dropout(0.5))                        # we are droping 50% of the neurons to prevent overfitting\n",
    "model.add(Dense(units=3, activation='softmax')) #this is our output layer with 3 units, representing 3 possible outputs\n"
   ]
  },
  {
   "cell_type": "code",
   "execution_count": 13,
   "id": "00be7bfe",
   "metadata": {},
   "outputs": [
    {
     "name": "stdout",
     "output_type": "stream",
     "text": [
      "Model: \"sequential\"\n",
      "_________________________________________________________________\n",
      " Layer (type)                Output Shape              Param #   \n",
      "=================================================================\n",
      " dense (Dense)               (None, 50)                250       \n",
      "                                                                 \n",
      " dense_1 (Dense)             (None, 100)               5100      \n",
      "                                                                 \n",
      " dropout (Dropout)           (None, 100)               0         \n",
      "                                                                 \n",
      " dense_2 (Dense)             (None, 3)                 303       \n",
      "                                                                 \n",
      "=================================================================\n",
      "Total params: 5,653\n",
      "Trainable params: 5,653\n",
      "Non-trainable params: 0\n",
      "_________________________________________________________________\n"
     ]
    }
   ],
   "source": [
    "#now we will compile the model take a look at the overall summary\n",
    "model.compile(optimizer='Adam', loss='categorical_crossentropy', metrics=['accuracy'])\n",
    "model.summary()"
   ]
  },
  {
   "cell_type": "code",
   "execution_count": 15,
   "id": "dccc6cea",
   "metadata": {},
   "outputs": [
    {
     "name": "stdout",
     "output_type": "stream",
     "text": [
      "Epoch 1/100\n",
      "3/3 - 0s - loss: 0.8929 - accuracy: 0.6164 - val_loss: 0.9303 - val_accuracy: 0.6562 - 51ms/epoch - 17ms/step\n",
      "Epoch 2/100\n",
      "3/3 - 0s - loss: 0.8751 - accuracy: 0.6575 - val_loss: 0.9100 - val_accuracy: 0.6562 - 37ms/epoch - 12ms/step\n",
      "Epoch 3/100\n",
      "3/3 - 0s - loss: 0.8742 - accuracy: 0.6164 - val_loss: 0.8856 - val_accuracy: 0.6562 - 39ms/epoch - 13ms/step\n",
      "Epoch 4/100\n",
      "3/3 - 0s - loss: 0.8567 - accuracy: 0.6438 - val_loss: 0.8605 - val_accuracy: 0.6562 - 34ms/epoch - 11ms/step\n",
      "Epoch 5/100\n",
      "3/3 - 0s - loss: 0.8321 - accuracy: 0.6438 - val_loss: 0.8363 - val_accuracy: 0.6562 - 33ms/epoch - 11ms/step\n",
      "Epoch 6/100\n",
      "3/3 - 0s - loss: 0.7820 - accuracy: 0.6575 - val_loss: 0.8109 - val_accuracy: 0.6562 - 35ms/epoch - 12ms/step\n",
      "Epoch 7/100\n",
      "3/3 - 0s - loss: 0.7776 - accuracy: 0.6986 - val_loss: 0.7840 - val_accuracy: 0.6562 - 36ms/epoch - 12ms/step\n",
      "Epoch 8/100\n",
      "3/3 - 0s - loss: 0.7817 - accuracy: 0.6301 - val_loss: 0.7543 - val_accuracy: 0.6562 - 42ms/epoch - 14ms/step\n",
      "Epoch 9/100\n",
      "3/3 - 0s - loss: 0.7559 - accuracy: 0.6438 - val_loss: 0.7244 - val_accuracy: 0.6562 - 37ms/epoch - 12ms/step\n",
      "Epoch 10/100\n",
      "3/3 - 0s - loss: 0.7298 - accuracy: 0.6438 - val_loss: 0.6948 - val_accuracy: 0.6562 - 37ms/epoch - 12ms/step\n",
      "Epoch 11/100\n",
      "3/3 - 0s - loss: 0.7175 - accuracy: 0.6712 - val_loss: 0.6675 - val_accuracy: 0.6562 - 34ms/epoch - 11ms/step\n",
      "Epoch 12/100\n",
      "3/3 - 0s - loss: 0.6966 - accuracy: 0.6575 - val_loss: 0.6433 - val_accuracy: 0.6562 - 34ms/epoch - 11ms/step\n",
      "Epoch 13/100\n",
      "3/3 - 0s - loss: 0.6598 - accuracy: 0.7397 - val_loss: 0.6206 - val_accuracy: 0.6562 - 35ms/epoch - 12ms/step\n",
      "Epoch 14/100\n",
      "3/3 - 0s - loss: 0.6661 - accuracy: 0.7260 - val_loss: 0.5953 - val_accuracy: 0.6562 - 34ms/epoch - 11ms/step\n",
      "Epoch 15/100\n",
      "3/3 - 0s - loss: 0.6262 - accuracy: 0.7671 - val_loss: 0.5714 - val_accuracy: 0.6562 - 34ms/epoch - 11ms/step\n",
      "Epoch 16/100\n",
      "3/3 - 0s - loss: 0.6242 - accuracy: 0.7123 - val_loss: 0.5500 - val_accuracy: 0.6875 - 35ms/epoch - 12ms/step\n",
      "Epoch 17/100\n",
      "3/3 - 0s - loss: 0.6396 - accuracy: 0.7123 - val_loss: 0.5297 - val_accuracy: 0.6875 - 37ms/epoch - 12ms/step\n",
      "Epoch 18/100\n",
      "3/3 - 0s - loss: 0.5921 - accuracy: 0.7123 - val_loss: 0.5123 - val_accuracy: 0.6875 - 37ms/epoch - 12ms/step\n",
      "Epoch 19/100\n",
      "3/3 - 0s - loss: 0.6141 - accuracy: 0.6575 - val_loss: 0.4962 - val_accuracy: 0.7188 - 45ms/epoch - 15ms/step\n",
      "Epoch 20/100\n",
      "3/3 - 0s - loss: 0.6039 - accuracy: 0.6301 - val_loss: 0.4820 - val_accuracy: 0.7188 - 39ms/epoch - 13ms/step\n",
      "Epoch 21/100\n",
      "3/3 - 0s - loss: 0.5692 - accuracy: 0.6986 - val_loss: 0.4684 - val_accuracy: 0.7188 - 37ms/epoch - 12ms/step\n",
      "Epoch 22/100\n",
      "3/3 - 0s - loss: 0.5664 - accuracy: 0.6986 - val_loss: 0.4551 - val_accuracy: 0.7188 - 36ms/epoch - 12ms/step\n",
      "Epoch 23/100\n",
      "3/3 - 0s - loss: 0.5378 - accuracy: 0.7260 - val_loss: 0.4436 - val_accuracy: 0.7188 - 33ms/epoch - 11ms/step\n",
      "Epoch 24/100\n",
      "3/3 - 0s - loss: 0.5405 - accuracy: 0.7260 - val_loss: 0.4325 - val_accuracy: 0.7500 - 35ms/epoch - 12ms/step\n",
      "Epoch 25/100\n",
      "3/3 - 0s - loss: 0.4720 - accuracy: 0.8219 - val_loss: 0.4227 - val_accuracy: 0.7812 - 33ms/epoch - 11ms/step\n",
      "Epoch 26/100\n",
      "3/3 - 0s - loss: 0.5119 - accuracy: 0.7534 - val_loss: 0.4137 - val_accuracy: 0.8438 - 43ms/epoch - 14ms/step\n",
      "Epoch 27/100\n",
      "3/3 - 0s - loss: 0.5162 - accuracy: 0.7534 - val_loss: 0.4062 - val_accuracy: 0.8750 - 37ms/epoch - 12ms/step\n",
      "Epoch 28/100\n",
      "3/3 - 0s - loss: 0.4904 - accuracy: 0.8219 - val_loss: 0.4005 - val_accuracy: 0.8438 - 35ms/epoch - 12ms/step\n",
      "Epoch 29/100\n",
      "3/3 - 0s - loss: 0.5107 - accuracy: 0.7534 - val_loss: 0.3943 - val_accuracy: 0.8750 - 33ms/epoch - 11ms/step\n",
      "Epoch 30/100\n",
      "3/3 - 0s - loss: 0.4975 - accuracy: 0.6986 - val_loss: 0.3864 - val_accuracy: 0.8750 - 35ms/epoch - 12ms/step\n",
      "Epoch 31/100\n",
      "3/3 - 0s - loss: 0.4653 - accuracy: 0.8356 - val_loss: 0.3788 - val_accuracy: 0.9062 - 36ms/epoch - 12ms/step\n",
      "Epoch 32/100\n",
      "3/3 - 0s - loss: 0.4544 - accuracy: 0.8219 - val_loss: 0.3724 - val_accuracy: 0.9062 - 34ms/epoch - 11ms/step\n",
      "Epoch 33/100\n",
      "3/3 - 0s - loss: 0.4657 - accuracy: 0.7671 - val_loss: 0.3693 - val_accuracy: 0.8750 - 35ms/epoch - 12ms/step\n",
      "Epoch 34/100\n",
      "3/3 - 0s - loss: 0.4931 - accuracy: 0.7671 - val_loss: 0.3679 - val_accuracy: 0.8750 - 35ms/epoch - 12ms/step\n",
      "Epoch 35/100\n",
      "3/3 - 0s - loss: 0.4559 - accuracy: 0.8219 - val_loss: 0.3637 - val_accuracy: 0.8750 - 37ms/epoch - 12ms/step\n",
      "Epoch 36/100\n",
      "3/3 - 0s - loss: 0.4581 - accuracy: 0.7808 - val_loss: 0.3563 - val_accuracy: 0.8750 - 37ms/epoch - 12ms/step\n",
      "Epoch 37/100\n",
      "3/3 - 0s - loss: 0.4397 - accuracy: 0.8356 - val_loss: 0.3497 - val_accuracy: 0.9062 - 33ms/epoch - 11ms/step\n",
      "Epoch 38/100\n",
      "3/3 - 0s - loss: 0.4573 - accuracy: 0.7671 - val_loss: 0.3419 - val_accuracy: 0.9062 - 35ms/epoch - 12ms/step\n",
      "Epoch 39/100\n",
      "3/3 - 0s - loss: 0.4548 - accuracy: 0.8219 - val_loss: 0.3363 - val_accuracy: 0.9062 - 36ms/epoch - 12ms/step\n",
      "Epoch 40/100\n",
      "3/3 - 0s - loss: 0.4333 - accuracy: 0.8356 - val_loss: 0.3288 - val_accuracy: 0.9062 - 33ms/epoch - 11ms/step\n",
      "Epoch 41/100\n",
      "3/3 - 0s - loss: 0.3904 - accuracy: 0.9041 - val_loss: 0.3190 - val_accuracy: 0.9688 - 33ms/epoch - 11ms/step\n",
      "Epoch 42/100\n",
      "3/3 - 0s - loss: 0.4559 - accuracy: 0.8082 - val_loss: 0.3124 - val_accuracy: 0.9688 - 36ms/epoch - 12ms/step\n",
      "Epoch 43/100\n",
      "3/3 - 0s - loss: 0.4154 - accuracy: 0.8767 - val_loss: 0.3105 - val_accuracy: 0.9688 - 37ms/epoch - 12ms/step\n",
      "Epoch 44/100\n",
      "3/3 - 0s - loss: 0.4356 - accuracy: 0.7945 - val_loss: 0.3160 - val_accuracy: 0.9062 - 35ms/epoch - 12ms/step\n",
      "Epoch 45/100\n",
      "3/3 - 0s - loss: 0.3999 - accuracy: 0.8630 - val_loss: 0.3158 - val_accuracy: 0.9062 - 35ms/epoch - 12ms/step\n",
      "Epoch 46/100\n",
      "3/3 - 0s - loss: 0.4363 - accuracy: 0.7808 - val_loss: 0.3137 - val_accuracy: 0.8750 - 35ms/epoch - 12ms/step\n",
      "Epoch 47/100\n",
      "3/3 - 0s - loss: 0.4082 - accuracy: 0.8630 - val_loss: 0.3064 - val_accuracy: 0.9062 - 36ms/epoch - 12ms/step\n",
      "Epoch 48/100\n",
      "3/3 - 0s - loss: 0.4006 - accuracy: 0.8219 - val_loss: 0.2936 - val_accuracy: 0.9062 - 34ms/epoch - 11ms/step\n",
      "Epoch 49/100\n",
      "3/3 - 0s - loss: 0.4124 - accuracy: 0.8082 - val_loss: 0.2818 - val_accuracy: 1.0000 - 35ms/epoch - 12ms/step\n",
      "Epoch 50/100\n",
      "3/3 - 0s - loss: 0.3881 - accuracy: 0.8493 - val_loss: 0.2738 - val_accuracy: 0.9688 - 36ms/epoch - 12ms/step\n",
      "Epoch 51/100\n",
      "3/3 - 0s - loss: 0.4096 - accuracy: 0.8493 - val_loss: 0.2697 - val_accuracy: 0.9688 - 37ms/epoch - 12ms/step\n",
      "Epoch 52/100\n",
      "3/3 - 0s - loss: 0.3785 - accuracy: 0.8356 - val_loss: 0.2703 - val_accuracy: 1.0000 - 34ms/epoch - 11ms/step\n",
      "Epoch 53/100\n",
      "3/3 - 0s - loss: 0.3617 - accuracy: 0.9178 - val_loss: 0.2746 - val_accuracy: 0.9062 - 35ms/epoch - 12ms/step\n",
      "Epoch 54/100\n",
      "3/3 - 0s - loss: 0.3820 - accuracy: 0.8767 - val_loss: 0.2819 - val_accuracy: 0.9062 - 38ms/epoch - 13ms/step\n",
      "Epoch 55/100\n",
      "3/3 - 0s - loss: 0.3569 - accuracy: 0.8630 - val_loss: 0.2864 - val_accuracy: 0.8750 - 32ms/epoch - 11ms/step\n",
      "Epoch 56/100\n",
      "3/3 - 0s - loss: 0.3526 - accuracy: 0.8630 - val_loss: 0.2780 - val_accuracy: 0.9062 - 33ms/epoch - 11ms/step\n",
      "Epoch 57/100\n",
      "3/3 - 0s - loss: 0.3493 - accuracy: 0.9041 - val_loss: 0.2611 - val_accuracy: 0.9375 - 33ms/epoch - 11ms/step\n",
      "Epoch 58/100\n",
      "3/3 - 0s - loss: 0.3386 - accuracy: 0.8630 - val_loss: 0.2489 - val_accuracy: 1.0000 - 34ms/epoch - 11ms/step\n",
      "Epoch 59/100\n",
      "3/3 - 0s - loss: 0.3231 - accuracy: 0.9315 - val_loss: 0.2412 - val_accuracy: 0.9688 - 33ms/epoch - 11ms/step\n",
      "Epoch 60/100\n",
      "3/3 - 0s - loss: 0.3496 - accuracy: 0.8904 - val_loss: 0.2386 - val_accuracy: 1.0000 - 33ms/epoch - 11ms/step\n",
      "Epoch 61/100\n",
      "3/3 - 0s - loss: 0.3256 - accuracy: 0.8767 - val_loss: 0.2414 - val_accuracy: 0.9688 - 33ms/epoch - 11ms/step\n",
      "Epoch 62/100\n",
      "3/3 - 0s - loss: 0.3383 - accuracy: 0.8630 - val_loss: 0.2379 - val_accuracy: 1.0000 - 33ms/epoch - 11ms/step\n",
      "Epoch 63/100\n",
      "3/3 - 0s - loss: 0.3267 - accuracy: 0.9178 - val_loss: 0.2288 - val_accuracy: 1.0000 - 34ms/epoch - 11ms/step\n",
      "Epoch 64/100\n",
      "3/3 - 0s - loss: 0.2813 - accuracy: 0.9315 - val_loss: 0.2199 - val_accuracy: 0.9688 - 34ms/epoch - 11ms/step\n",
      "Epoch 65/100\n",
      "3/3 - 0s - loss: 0.2898 - accuracy: 0.8904 - val_loss: 0.2156 - val_accuracy: 0.9375 - 32ms/epoch - 11ms/step\n",
      "Epoch 66/100\n",
      "3/3 - 0s - loss: 0.2744 - accuracy: 0.9315 - val_loss: 0.2151 - val_accuracy: 1.0000 - 32ms/epoch - 11ms/step\n",
      "Epoch 67/100\n",
      "3/3 - 0s - loss: 0.2926 - accuracy: 0.9178 - val_loss: 0.2195 - val_accuracy: 1.0000 - 33ms/epoch - 11ms/step\n"
     ]
    },
    {
     "name": "stdout",
     "output_type": "stream",
     "text": [
      "Epoch 68/100\n",
      "3/3 - 0s - loss: 0.3085 - accuracy: 0.9178 - val_loss: 0.2159 - val_accuracy: 1.0000 - 35ms/epoch - 12ms/step\n",
      "Epoch 69/100\n",
      "3/3 - 0s - loss: 0.2932 - accuracy: 0.8904 - val_loss: 0.2043 - val_accuracy: 0.9688 - 32ms/epoch - 11ms/step\n",
      "Epoch 70/100\n",
      "3/3 - 0s - loss: 0.2682 - accuracy: 0.9041 - val_loss: 0.1988 - val_accuracy: 0.9375 - 32ms/epoch - 11ms/step\n",
      "Epoch 71/100\n",
      "3/3 - 0s - loss: 0.2675 - accuracy: 0.9452 - val_loss: 0.1975 - val_accuracy: 0.9375 - 32ms/epoch - 11ms/step\n",
      "Epoch 72/100\n",
      "3/3 - 0s - loss: 0.2807 - accuracy: 0.9315 - val_loss: 0.2026 - val_accuracy: 1.0000 - 32ms/epoch - 11ms/step\n",
      "Epoch 73/100\n",
      "3/3 - 0s - loss: 0.2905 - accuracy: 0.8904 - val_loss: 0.2095 - val_accuracy: 0.9688 - 32ms/epoch - 11ms/step\n",
      "Epoch 74/100\n",
      "3/3 - 0s - loss: 0.2578 - accuracy: 0.9041 - val_loss: 0.1995 - val_accuracy: 1.0000 - 33ms/epoch - 11ms/step\n",
      "Epoch 75/100\n",
      "3/3 - 0s - loss: 0.2384 - accuracy: 0.9452 - val_loss: 0.1865 - val_accuracy: 0.9375 - 32ms/epoch - 11ms/step\n",
      "Epoch 76/100\n",
      "3/3 - 0s - loss: 0.2588 - accuracy: 0.9178 - val_loss: 0.1825 - val_accuracy: 0.9375 - 33ms/epoch - 11ms/step\n",
      "Epoch 77/100\n",
      "3/3 - 0s - loss: 0.2441 - accuracy: 0.9452 - val_loss: 0.1797 - val_accuracy: 0.9375 - 32ms/epoch - 11ms/step\n",
      "Epoch 78/100\n",
      "3/3 - 0s - loss: 0.2765 - accuracy: 0.9178 - val_loss: 0.1778 - val_accuracy: 0.9375 - 35ms/epoch - 12ms/step\n",
      "Epoch 79/100\n",
      "3/3 - 0s - loss: 0.2596 - accuracy: 0.9178 - val_loss: 0.1781 - val_accuracy: 0.9688 - 33ms/epoch - 11ms/step\n",
      "Epoch 80/100\n",
      "3/3 - 0s - loss: 0.2451 - accuracy: 0.9589 - val_loss: 0.1806 - val_accuracy: 1.0000 - 33ms/epoch - 11ms/step\n",
      "Epoch 81/100\n",
      "3/3 - 0s - loss: 0.2241 - accuracy: 0.9452 - val_loss: 0.1784 - val_accuracy: 1.0000 - 33ms/epoch - 11ms/step\n",
      "Epoch 82/100\n",
      "3/3 - 0s - loss: 0.2230 - accuracy: 0.9589 - val_loss: 0.1741 - val_accuracy: 0.9688 - 33ms/epoch - 11ms/step\n",
      "Epoch 83/100\n",
      "3/3 - 0s - loss: 0.1945 - accuracy: 0.9726 - val_loss: 0.1693 - val_accuracy: 0.9688 - 33ms/epoch - 11ms/step\n",
      "Epoch 84/100\n",
      "3/3 - 0s - loss: 0.2245 - accuracy: 0.9315 - val_loss: 0.1629 - val_accuracy: 0.9375 - 32ms/epoch - 11ms/step\n",
      "Epoch 85/100\n",
      "3/3 - 0s - loss: 0.2467 - accuracy: 0.9178 - val_loss: 0.1590 - val_accuracy: 0.9375 - 32ms/epoch - 11ms/step\n",
      "Epoch 86/100\n",
      "3/3 - 0s - loss: 0.1866 - accuracy: 0.9452 - val_loss: 0.1575 - val_accuracy: 0.9375 - 32ms/epoch - 11ms/step\n",
      "Epoch 87/100\n",
      "3/3 - 0s - loss: 0.2485 - accuracy: 0.8904 - val_loss: 0.1561 - val_accuracy: 0.9375 - 32ms/epoch - 11ms/step\n",
      "Epoch 88/100\n",
      "3/3 - 0s - loss: 0.2247 - accuracy: 0.9315 - val_loss: 0.1540 - val_accuracy: 0.9375 - 32ms/epoch - 11ms/step\n",
      "Epoch 89/100\n",
      "3/3 - 0s - loss: 0.2528 - accuracy: 0.8904 - val_loss: 0.1614 - val_accuracy: 1.0000 - 32ms/epoch - 11ms/step\n",
      "Epoch 90/100\n",
      "3/3 - 0s - loss: 0.2013 - accuracy: 0.9452 - val_loss: 0.1754 - val_accuracy: 0.9375 - 32ms/epoch - 11ms/step\n",
      "Epoch 91/100\n",
      "3/3 - 0s - loss: 0.2423 - accuracy: 0.9178 - val_loss: 0.1727 - val_accuracy: 0.9375 - 32ms/epoch - 11ms/step\n",
      "Epoch 92/100\n",
      "3/3 - 0s - loss: 0.1862 - accuracy: 0.9452 - val_loss: 0.1637 - val_accuracy: 1.0000 - 33ms/epoch - 11ms/step\n",
      "Epoch 93/100\n",
      "3/3 - 0s - loss: 0.2181 - accuracy: 0.9178 - val_loss: 0.1537 - val_accuracy: 0.9688 - 34ms/epoch - 11ms/step\n",
      "Epoch 94/100\n",
      "3/3 - 0s - loss: 0.1800 - accuracy: 0.9589 - val_loss: 0.1478 - val_accuracy: 0.9688 - 33ms/epoch - 11ms/step\n",
      "Epoch 95/100\n",
      "3/3 - 0s - loss: 0.1936 - accuracy: 0.9452 - val_loss: 0.1467 - val_accuracy: 0.9688 - 32ms/epoch - 11ms/step\n",
      "Epoch 96/100\n",
      "3/3 - 0s - loss: 0.1674 - accuracy: 0.9589 - val_loss: 0.1440 - val_accuracy: 0.9688 - 32ms/epoch - 11ms/step\n",
      "Epoch 97/100\n",
      "3/3 - 0s - loss: 0.2021 - accuracy: 0.9315 - val_loss: 0.1407 - val_accuracy: 0.9688 - 32ms/epoch - 11ms/step\n",
      "Epoch 98/100\n",
      "3/3 - 0s - loss: 0.1894 - accuracy: 0.9178 - val_loss: 0.1392 - val_accuracy: 0.9375 - 44ms/epoch - 15ms/step\n",
      "Epoch 99/100\n",
      "3/3 - 0s - loss: 0.2004 - accuracy: 0.9315 - val_loss: 0.1388 - val_accuracy: 0.9688 - 34ms/epoch - 11ms/step\n",
      "Epoch 100/100\n",
      "3/3 - 0s - loss: 0.1829 - accuracy: 0.9315 - val_loss: 0.1380 - val_accuracy: 0.9688 - 32ms/epoch - 11ms/step\n"
     ]
    },
    {
     "data": {
      "text/plain": [
       "<keras.callbacks.History at 0x28cfc5e20>"
      ]
     },
     "execution_count": 15,
     "metadata": {},
     "output_type": "execute_result"
    }
   ],
   "source": [
    "#Let't our training data to this model\n",
    "model.fit(x_train, y_train, epochs=100, validation_split=0.3, shuffle=True, verbose =2)\n",
    "#we are not adding batch size because the dataset is very small\n",
    "#we are also creating a validation split to judde our model if it is overfitting"
   ]
  },
  {
   "cell_type": "code",
   "execution_count": 16,
   "id": "2df5494e",
   "metadata": {},
   "outputs": [],
   "source": [
    "#we could have stopped after 50 epochs, as the model starts to perform really at around 50 epochs for both training and validation set."
   ]
  },
  {
   "cell_type": "markdown",
   "id": "504daf66",
   "metadata": {},
   "source": [
    "# Prediction and Score"
   ]
  },
  {
   "cell_type": "code",
   "execution_count": 17,
   "id": "65a4abb4",
   "metadata": {},
   "outputs": [
    {
     "name": "stdout",
     "output_type": "stream",
     "text": [
      "Before conversion\n",
      "[[9.9851471e-01 1.4848839e-03 3.5042430e-07]\n",
      " [3.9449800e-03 8.5517704e-01 1.4087793e-01]\n",
      " [9.9652505e-01 3.4736299e-03 1.3237415e-06]]\n",
      "After conversion\n",
      "[0 1 0]\n"
     ]
    },
    {
     "name": "stderr",
     "output_type": "stream",
     "text": [
      "2022-01-09 05:08:54.610715: I tensorflow/core/grappler/optimizers/custom_graph_optimizer_registry.cc:112] Plugin optimizer for device_type GPU is enabled.\n"
     ]
    }
   ],
   "source": [
    "prediction = model.predict(x_test)\n",
    "print('Before conversion')\n",
    "print(prediction[:3])\n",
    "\n",
    "prediction = np.argmax(prediction, axis=1)  # this will covert the prediction matrix to our label\n",
    "print('After conversion')\n",
    "print(prediction[:3])\n",
    "\n"
   ]
  },
  {
   "cell_type": "code",
   "execution_count": 18,
   "id": "afa84663",
   "metadata": {},
   "outputs": [
    {
     "name": "stdout",
     "output_type": "stream",
     "text": [
      "1.0\n",
      "              precision    recall  f1-score   support\n",
      "\n",
      "           0       1.00      1.00      1.00        16\n",
      "           1       1.00      1.00      1.00        12\n",
      "           2       1.00      1.00      1.00        17\n",
      "\n",
      "    accuracy                           1.00        45\n",
      "   macro avg       1.00      1.00      1.00        45\n",
      "weighted avg       1.00      1.00      1.00        45\n",
      "\n",
      "[[16  0  0]\n",
      " [ 0 12  0]\n",
      " [ 0  0 17]]\n"
     ]
    }
   ],
   "source": [
    "#lets score our model\n",
    "from sklearn.metrics import confusion_matrix,accuracy_score,classification_report\n",
    "ac = accuracy_score(y_test, prediction)\n",
    "cr = classification_report(y_test, prediction)\n",
    "cm = confusion_matrix(y_test, prediction)\n",
    "print(ac)\n",
    "print(cr)\n",
    "print(cm)"
   ]
  },
  {
   "cell_type": "code",
   "execution_count": 19,
   "id": "f2d71b97",
   "metadata": {},
   "outputs": [],
   "source": [
    "#our model did really well even with the testing sample, if we were dealing with a much larger and uneven dataset\\\n",
    "#we would have seen some discrepancy. Let's create a nice figure for our confusion matrix\n",
    "import matplotlib.pyplot as plt\n",
    "import seaborn as sns\n",
    "%matplotlib inline"
   ]
  },
  {
   "cell_type": "code",
   "execution_count": 22,
   "id": "7c913d1f",
   "metadata": {},
   "outputs": [
    {
     "data": {
      "text/plain": [
       "Text(0.5, 1.0, 'Confusion Matrix')"
      ]
     },
     "execution_count": 22,
     "metadata": {},
     "output_type": "execute_result"
    },
    {
     "data": {
      "image/png": "[encoded data removed]",
      "text/plain": [
       "<Figure size 720x720 with 2 Axes>"
      ]
     },
     "metadata": {
      "needs_background": "light"
     },
     "output_type": "display_data"
    }
   ],
   "source": [
    "fig = plt.subplots(figsize=(10,10))\n",
    "fig = sns.heatmap(cm, annot=True, fmt='d', cmap='Blues', xticklabels=['setosa','versicolor','virginica'], yticklabels=['setosa','versicolor','virginica'])\n",
    "fig.set_xlabel('Prediction', fontsize=18)\n",
    "fig.set_ylabel('Actual', fontsize=18)\n",
    "fig.set_title('Confusion Matrix', fontsize=18)"
   ]
  },
  {
   "cell_type": "code",
   "execution_count": 23,
   "id": "750d9971",
   "metadata": {},
   "outputs": [],
   "source": [
    "#let's save our model as an h5 file:\n",
    "model.save('Model_irisdataset.h5')"
   ]
  },
  {
   "cell_type": "code",
   "execution_count": null,
   "id": "23ecd8fb",
   "metadata": {},
   "outputs": [],
   "source": [
    "#this problem could have been solved by using any standard classification algorithm from scikit learn\n",
    "#but the goal for this problem was to solve the classification problem using DeepLearning methods.\n",
    "#we may have gotten a perfect score from this model, but that won't be the case always, especially when we are dealing with large datasets."
   ]
  }
 ],
 "metadata": {
  "kernelspec": {
   "display_name": "Python 3 (ipykernel)",
   "language": "python",
   "name": "python3"
  },
  "language_info": {
   "codemirror_mode": {
    "name": "ipython",
    "version": 3
   },
   "file_extension": ".py",
   "mimetype": "text/x-python",
   "name": "python",
   "nbconvert_exporter": "python",
   "pygments_lexer": "ipython3",
   "version": "3.9.9"
  }
 },
 "nbformat": 4,
 "nbformat_minor": 5
}
